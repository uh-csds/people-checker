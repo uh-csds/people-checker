{
 "cells": [
  {
   "cell_type": "code",
   "id": "initial_id",
   "metadata": {
    "collapsed": true,
    "ExecuteTime": {
     "end_time": "2024-06-20T12:53:22.918728Z",
     "start_time": "2024-06-20T12:53:22.728492Z"
    }
   },
   "source": [
    "from bs4 import BeautifulSoup\n",
    "import requests\n",
    "import helsinki_people_checker as HPC\n",
    "import importlib\n",
    "importlib.reload(HPC)\n",
    "\n",
    "\n",
    "    \n",
    "# searched_url = \"https://www.helsinki.fi/en/networks/centre-social-data-science/people\"\n",
    "# \n",
    "# # Fetch the HTML content of the webpage\n",
    "# response = requests.get(searched_url)\n",
    "# person_ids = []\n",
    "# \n",
    "# # Check if the request was successful\n",
    "# if response.status_code == 200:\n",
    "#     # Parse the HTML content\n",
    "#     soup = BeautifulSoup(response.content, 'html.parser')\n",
    "#     \n",
    "#     # Find all div elements with the class \"hy-person-container\"\n",
    "#     person_containers = soup.find_all('div', class_='hy-person-container')\n",
    "#     \n",
    "#     # Extract and print the data-person-id attribute\n",
    "#     for container in person_containers:\n",
    "#         person_id = container.get('data-person-id')\n",
    "#         if person_id:\n",
    "#             person_ids.append(person_id)\n",
    "# else:\n",
    "#     print(\"Failed to retrieve webpage.\")\n",
    "# \n",
    "# print(person_ids)"
   ],
   "outputs": [
    {
     "data": {
      "text/plain": [
       "<module 'helsinki_people_checker' from 'D:\\\\GitHub\\\\people-checker\\\\helsinki_people_checker.py'>"
      ]
     },
     "execution_count": 2,
     "metadata": {},
     "output_type": "execute_result"
    }
   ],
   "execution_count": 2
  },
  {
   "metadata": {
    "ExecuteTime": {
     "end_time": "2024-06-13T08:42:43.732676Z",
     "start_time": "2024-06-13T08:42:42.223973Z"
    }
   },
   "cell_type": "code",
   "source": [
    "from email.mime.text import MIMEText\n",
    "from subprocess import Popen, PIPE\n",
    "\n",
    "msg = MIMEText(\"Here is the body of my message\")\n",
    "msg[\"From\"] = \"me@example.com\"\n",
    "msg[\"To\"] = \"helsinkisocialdatascience@gmail.com\"\n",
    "msg[\"Subject\"] = \"This is the subject.\"\n",
    "p = Popen([\"/usr/lib/sendmail\", \"-t\", \"-oi\"], stdin=PIPE, universal_newlines=True)\n",
    "p.communicate(msg.as_string())"
   ],
   "id": "2fd961da09447e43",
   "outputs": [
    {
     "data": {
      "text/plain": [
       "(None, None)"
      ]
     },
     "execution_count": 11,
     "metadata": {},
     "output_type": "execute_result"
    }
   ],
   "execution_count": 11
  },
  {
   "metadata": {
    "ExecuteTime": {
     "end_time": "2024-06-13T08:41:27.181860Z",
     "start_time": "2024-06-13T08:41:27.093081Z"
    }
   },
   "cell_type": "code",
   "source": [
    "import smtplib\n",
    "from email.mime.text import MIMEText\n",
    "\n",
    "import smtplib, ssl\n",
    "\n",
    "port = 465  # For SSL\n",
    "smtp_server = \"smtp.gmail.com\"\n",
    "sender_email = \"helsinkisocialdatascience@gmail.com\"  # Enter your address\n",
    "receiver_email = \"helsinkisocialdatascience@gmail.com\"  # Enter receiver address\n",
    "password = \"plzbdwukhboczevk\"\n",
    "message = \"\"\"\\\n",
    "Subject: Hi there\n",
    "\n",
    "This message is sent from Python.\"\"\"\n",
    "\n",
    "context = ssl.create_default_context()\n",
    "with smtplib.SMTP_SSL(smtp_server, port, context=context) as server:\n",
    "    server.login(sender_email, password)\n",
    "    server.sendmail(sender_email, receiver_email, message)\n"
   ],
   "id": "134d6fa63026cf13",
   "outputs": [
    {
     "ename": "SMTPAuthenticationError",
     "evalue": "(535, b'5.7.8 Username and Password not accepted. For more information, go to\\n5.7.8  https://support.google.com/mail/?p=BadCredentials 2adb3069b0e04-52ca2825b43sm128331e87.12 - gsmtp')",
     "output_type": "error",
     "traceback": [
      "\u001B[1;31m---------------------------------------------------------------------------\u001B[0m",
      "\u001B[1;31mSMTPAuthenticationError\u001B[0m                   Traceback (most recent call last)",
      "Cell \u001B[1;32mIn[10], line 18\u001B[0m\n\u001B[0;32m     16\u001B[0m context \u001B[38;5;241m=\u001B[39m ssl\u001B[38;5;241m.\u001B[39mcreate_default_context()\n\u001B[0;32m     17\u001B[0m \u001B[38;5;28;01mwith\u001B[39;00m smtplib\u001B[38;5;241m.\u001B[39mSMTP_SSL(smtp_server, port, context\u001B[38;5;241m=\u001B[39mcontext) \u001B[38;5;28;01mas\u001B[39;00m server:\n\u001B[1;32m---> 18\u001B[0m     \u001B[43mserver\u001B[49m\u001B[38;5;241;43m.\u001B[39;49m\u001B[43mlogin\u001B[49m\u001B[43m(\u001B[49m\u001B[43msender_email\u001B[49m\u001B[43m,\u001B[49m\u001B[43m \u001B[49m\u001B[43mpassword\u001B[49m\u001B[43m)\u001B[49m\n\u001B[0;32m     19\u001B[0m     server\u001B[38;5;241m.\u001B[39msendmail(sender_email, receiver_email, message)\n",
      "File \u001B[1;32m~\\AppData\\Local\\Programs\\Python\\Python312\\Lib\\smtplib.py:750\u001B[0m, in \u001B[0;36mSMTP.login\u001B[1;34m(self, user, password, initial_response_ok)\u001B[0m\n\u001B[0;32m    747\u001B[0m         last_exception \u001B[38;5;241m=\u001B[39m e\n\u001B[0;32m    749\u001B[0m \u001B[38;5;66;03m# We could not login successfully.  Return result of last attempt.\u001B[39;00m\n\u001B[1;32m--> 750\u001B[0m \u001B[38;5;28;01mraise\u001B[39;00m last_exception\n",
      "File \u001B[1;32m~\\AppData\\Local\\Programs\\Python\\Python312\\Lib\\smtplib.py:739\u001B[0m, in \u001B[0;36mSMTP.login\u001B[1;34m(self, user, password, initial_response_ok)\u001B[0m\n\u001B[0;32m    737\u001B[0m method_name \u001B[38;5;241m=\u001B[39m \u001B[38;5;124m'\u001B[39m\u001B[38;5;124mauth_\u001B[39m\u001B[38;5;124m'\u001B[39m \u001B[38;5;241m+\u001B[39m authmethod\u001B[38;5;241m.\u001B[39mlower()\u001B[38;5;241m.\u001B[39mreplace(\u001B[38;5;124m'\u001B[39m\u001B[38;5;124m-\u001B[39m\u001B[38;5;124m'\u001B[39m, \u001B[38;5;124m'\u001B[39m\u001B[38;5;124m_\u001B[39m\u001B[38;5;124m'\u001B[39m)\n\u001B[0;32m    738\u001B[0m \u001B[38;5;28;01mtry\u001B[39;00m:\n\u001B[1;32m--> 739\u001B[0m     (code, resp) \u001B[38;5;241m=\u001B[39m \u001B[38;5;28;43mself\u001B[39;49m\u001B[38;5;241;43m.\u001B[39;49m\u001B[43mauth\u001B[49m\u001B[43m(\u001B[49m\n\u001B[0;32m    740\u001B[0m \u001B[43m        \u001B[49m\u001B[43mauthmethod\u001B[49m\u001B[43m,\u001B[49m\u001B[43m \u001B[49m\u001B[38;5;28;43mgetattr\u001B[39;49m\u001B[43m(\u001B[49m\u001B[38;5;28;43mself\u001B[39;49m\u001B[43m,\u001B[49m\u001B[43m \u001B[49m\u001B[43mmethod_name\u001B[49m\u001B[43m)\u001B[49m\u001B[43m,\u001B[49m\n\u001B[0;32m    741\u001B[0m \u001B[43m        \u001B[49m\u001B[43minitial_response_ok\u001B[49m\u001B[38;5;241;43m=\u001B[39;49m\u001B[43minitial_response_ok\u001B[49m\u001B[43m)\u001B[49m\n\u001B[0;32m    742\u001B[0m     \u001B[38;5;66;03m# 235 == 'Authentication successful'\u001B[39;00m\n\u001B[0;32m    743\u001B[0m     \u001B[38;5;66;03m# 503 == 'Error: already authenticated'\u001B[39;00m\n\u001B[0;32m    744\u001B[0m     \u001B[38;5;28;01mif\u001B[39;00m code \u001B[38;5;129;01min\u001B[39;00m (\u001B[38;5;241m235\u001B[39m, \u001B[38;5;241m503\u001B[39m):\n",
      "File \u001B[1;32m~\\AppData\\Local\\Programs\\Python\\Python312\\Lib\\smtplib.py:662\u001B[0m, in \u001B[0;36mSMTP.auth\u001B[1;34m(self, mechanism, authobject, initial_response_ok)\u001B[0m\n\u001B[0;32m    660\u001B[0m \u001B[38;5;28;01mif\u001B[39;00m code \u001B[38;5;129;01min\u001B[39;00m (\u001B[38;5;241m235\u001B[39m, \u001B[38;5;241m503\u001B[39m):\n\u001B[0;32m    661\u001B[0m     \u001B[38;5;28;01mreturn\u001B[39;00m (code, resp)\n\u001B[1;32m--> 662\u001B[0m \u001B[38;5;28;01mraise\u001B[39;00m SMTPAuthenticationError(code, resp)\n",
      "\u001B[1;31mSMTPAuthenticationError\u001B[0m: (535, b'5.7.8 Username and Password not accepted. For more information, go to\\n5.7.8  https://support.google.com/mail/?p=BadCredentials 2adb3069b0e04-52ca2825b43sm128331e87.12 - gsmtp')"
     ]
    }
   ],
   "execution_count": 10
  },
  {
   "metadata": {
    "ExecuteTime": {
     "end_time": "2024-06-11T14:14:49.069354Z",
     "start_time": "2024-06-11T14:14:49.020860Z"
    }
   },
   "cell_type": "code",
   "source": [
    "importlib.reload(HAPI)\n",
    "helsinki_api = HAPI.HelsinkiAPICall(sort=\"id\", page=\"1\")\n",
    "first_page, last_page = helsinki_api.gather_page_range()\n",
    "#print(first_page)\n",
    "member = helsinki_api.binary_int_search(search_id=9077557)\n",
    "print(member)"
   ],
   "id": "e77a02d657c986f2",
   "outputs": [
    {
     "ename": "KeyError",
     "evalue": "'person_id'",
     "output_type": "error",
     "traceback": [
      "\u001B[1;31m---------------------------------------------------------------------------\u001B[0m",
      "\u001B[1;31mKeyError\u001B[0m                                  Traceback (most recent call last)",
      "Cell \u001B[1;32mIn[50], line 2\u001B[0m\n\u001B[0;32m      1\u001B[0m importlib\u001B[38;5;241m.\u001B[39mreload(HAPI)\n\u001B[1;32m----> 2\u001B[0m helsinki_api \u001B[38;5;241m=\u001B[39m \u001B[43mHAPI\u001B[49m\u001B[38;5;241;43m.\u001B[39;49m\u001B[43mHelsinkiAPICall\u001B[49m\u001B[43m(\u001B[49m\u001B[43msort\u001B[49m\u001B[38;5;241;43m=\u001B[39;49m\u001B[38;5;124;43m\"\u001B[39;49m\u001B[38;5;124;43mid\u001B[39;49m\u001B[38;5;124;43m\"\u001B[39;49m\u001B[43m,\u001B[49m\u001B[43m \u001B[49m\u001B[43mpage\u001B[49m\u001B[38;5;241;43m=\u001B[39;49m\u001B[38;5;124;43m\"\u001B[39;49m\u001B[38;5;124;43m1\u001B[39;49m\u001B[38;5;124;43m\"\u001B[39;49m\u001B[43m)\u001B[49m\n\u001B[0;32m      3\u001B[0m first_page, last_page \u001B[38;5;241m=\u001B[39m helsinki_api\u001B[38;5;241m.\u001B[39mgather_page_range()\n\u001B[0;32m      4\u001B[0m \u001B[38;5;66;03m#print(first_page)\u001B[39;00m\n",
      "File \u001B[1;32mD:\\GitHub\\people-checker\\classes\\helsinki_api_call.py:22\u001B[0m, in \u001B[0;36mHelsinkiAPICall.__init__\u001B[1;34m(self, ac_api_path, **kwargs)\u001B[0m\n\u001B[0;32m     19\u001B[0m \u001B[38;5;28msuper\u001B[39m()\u001B[38;5;241m.\u001B[39m\u001B[38;5;21m__init__\u001B[39m(ac_api_path, \u001B[38;5;241m*\u001B[39m\u001B[38;5;241m*\u001B[39mkwargs)\n\u001B[0;32m     21\u001B[0m \u001B[38;5;28mself\u001B[39m\u001B[38;5;241m.\u001B[39mperson_id \u001B[38;5;241m=\u001B[39m \u001B[38;5;28mself\u001B[39m\u001B[38;5;241m.\u001B[39m_params\u001B[38;5;241m.\u001B[39mget(\u001B[38;5;124m\"\u001B[39m\u001B[38;5;124mperson_id\u001B[39m\u001B[38;5;124m\"\u001B[39m)\n\u001B[1;32m---> 22\u001B[0m \u001B[38;5;28;01mdel\u001B[39;00m \u001B[38;5;28;43mself\u001B[39;49m\u001B[38;5;241;43m.\u001B[39;49m\u001B[43m_params\u001B[49m\u001B[43m[\u001B[49m\u001B[38;5;124;43m\"\u001B[39;49m\u001B[38;5;124;43mperson_id\u001B[39;49m\u001B[38;5;124;43m\"\u001B[39;49m\u001B[43m]\u001B[49m\n\u001B[0;32m     23\u001B[0m \u001B[38;5;28mself\u001B[39m\u001B[38;5;241m.\u001B[39m_params[\u001B[38;5;124m\"\u001B[39m\u001B[38;5;124msort\u001B[39m\u001B[38;5;124m\"\u001B[39m] \u001B[38;5;241m=\u001B[39m \u001B[38;5;124m\"\u001B[39m\u001B[38;5;124mid\u001B[39m\u001B[38;5;124m\"\u001B[39m\n\u001B[0;32m     26\u001B[0m \u001B[38;5;28mself\u001B[39m\u001B[38;5;241m.\u001B[39mpage_numbers \u001B[38;5;241m=\u001B[39m {}\n",
      "\u001B[1;31mKeyError\u001B[0m: 'person_id'"
     ]
    }
   ],
   "execution_count": 50
  },
  {
   "metadata": {
    "ExecuteTime": {
     "end_time": "2024-06-11T15:13:17.036923Z",
     "start_time": "2024-06-11T15:13:16.291150Z"
    }
   },
   "cell_type": "code",
   "source": [
    "# helsinki_api = HAPI.HelsinkiAPICall(person_id=9077557)\n",
    "# member = helsinki_api.binary_int_search()\n",
    "# print(member)\n",
    "organization_api = HAPI.HelsinkiAPICall(**{'researchOrganizations.id[]': 62060775})\n",
    "members = organization_api.get_all_members(organization_api.request_json())\n",
    "matching_terms, different_terms = organization_api.compare_members_to_list(\"id\", members, person_ids)\n",
    "print(matching_terms)\n",
    "print(different_terms)\n"
   ],
   "id": "e4c95dbda2a48607",
   "outputs": [
    {
     "name": "stdout",
     "output_type": "stream",
     "text": [
      "9417544\n",
      "9470585\n",
      "9383584\n",
      "9461422\n",
      "9125550\n",
      "9122965\n",
      "9077557\n",
      "9383658\n",
      "9028975\n",
      "9362919\n",
      "9104472\n",
      "9493834\n",
      "9474802\n",
      "9470895\n",
      "9465163\n",
      "9479377\n",
      "[9417544, 9470585, 9383584, 9461422, 9125550, 9122965, 9077557, 9383658, 9028975, 9362919, 9104472, 9493834, 9474802, 9470895, 9465163, 9479377]\n",
      "[9068141]\n"
     ]
    }
   ],
   "execution_count": 2
  },
  {
   "metadata": {
    "ExecuteTime": {
     "end_time": "2024-06-25T08:09:39.090403Z",
     "start_time": "2024-06-25T08:09:38.574624Z"
    }
   },
   "cell_type": "code",
   "source": [
    "import dependicies.api_call as AC\n",
    "import helsinki_people_checker as HPC\n",
    "import importlib\n",
    "importlib.reload(AC)\n",
    "importlib.reload(HPC)\n",
    "\n",
    "research_org_search = HPC.HelsinkiAPICall(search=\"Centre for Social Data Science\")\n",
    "new_id = research_org_search.find_specific_id(search_term=\"researchOrganizations\")\n",
    "print(new_id)\n",
    "\n",
    "# person_api = HPC.HelsinkiAPICall(person_id=9068141)\n",
    "# print(person_api.get_headers())\n",
    "# print(person_api.get_params())\n",
    "# print(person_api.get_url())\n",
    "# member = person_api.request_json()\n",
    "# print(member)\n",
    "    "
   ],
   "id": "b40ca9b08aaee39f",
   "outputs": [
    {
     "name": "stdout",
     "output_type": "stream",
     "text": [
      "Member\n",
      "{'@id': '/contacts/9461422', '@type': 'Contact', 'organizations': [{'@id': '/organizations/10880982', '@type': 'Organization', 'id': 10880982, 'name': {'fi': 'Tutkimusyksiköt', 'en': 'Research Units', 'sv': 'Forskningsenheterna'}, 'type': 'toimintayksikko', 'parent': 20155246, 'depth': 3}, {'@id': '/organizations/20155246', '@type': 'Organization', 'id': 20155246, 'name': {'fi': 'Valtiotieteellinen tiedekunta', 'en': 'Faculty of Social Sciences', 'sv': 'Statsvetenskapliga fakulteten'}, 'type': 'henkilostoyksikko,tiedekunta', 'parent': 32800844, 'depth': 2}, {'@id': '/organizations/32800844', '@type': 'Organization', 'id': 32800844, 'name': {'fi': 'Tiedekunnat', 'en': 'Faculties', 'sv': 'Fakulteterna'}, 'type': 'koontiyksikko', 'parent': None, 'depth': 1}, {'@id': '/organizations/62060775', '@type': 'Organization', 'id': 62060775, 'name': {'fi': 'Yhteiskuntadatatieteen keskus', 'en': 'Centre for Social Data Science', 'sv': 'Centret för samhällsdatavetenskap'}, 'type': 'tulosyksikko', 'parent': 10880982, 'depth': 4}], 'researchOrganizations': [[{'@id': '/research_organizations/62060775', '@type': 'ResearchOrganization', 'abbreviation': 'CSDS', 'id': 62060775, 'name': {'fi': 'Yhteiskuntadatatieteen keskus', 'en': 'Centre for Social Data Science', 'sv': 'Centret för samhällsdatavetenskap'}, 'type': 'tulosyksikko', 'parent': 10880982, 'depth': 4}, {'@id': '/research_organizations/10880982', '@type': 'ResearchOrganization', 'abbreviation': '', 'id': 10880982, 'name': {'fi': 'Tutkimusyksiköt', 'en': 'Research Units', 'sv': 'Forskningsenheterna'}, 'type': 'toimintayksikko', 'parent': 20155246, 'depth': 3}, {'@id': '/research_organizations/20155246', '@type': 'ResearchOrganization', 'abbreviation': 'VALTTDK', 'id': 20155246, 'name': {'fi': 'Valtiotieteellinen tiedekunta', 'en': 'Faculty of Social Sciences', 'sv': 'Statsvetenskapliga fakulteten'}, 'type': 'henkilostoyksikko,tiedekunta', 'parent': 32800844, 'depth': 2}, {'@id': '/research_organizations/32800844', '@type': 'ResearchOrganization', 'abbreviation': 'TDK', 'id': 32800844, 'name': {'fi': 'Tiedekunnat', 'en': 'Faculties', 'sv': 'Fakulteterna'}, 'type': 'koontiyksikko', 'parent': None, 'depth': 1}]], 'steeringGroups': [], 'hrOrganizations': [], 'title': {'@id': '/titles/56787', '@type': 'Title', 'id': '56787', 'name': {'fi': 'tutkijatohtori', 'en': 'Postdoctoral researcher', 'sv': 'forskardoktor'}}, 'fieldsOfScience': [{'@type': 'KeywordGroup', '@id': '/.well-known/genid/8e5c9702f8a36c70c128', 'value': {'@type': 'FieldOfScience', '@id': '/field_of_sciences/5141', 'id': 5141, 'label': {'fi': 'Sosiologia', 'en': 'Sociology', 'sv': 'Sociologi'}}, 'additional': {'en': None, 'fi': None, 'sv': None}}], 'picture': 'https://flamma.helsinki.fi/documents/20142/28514050/upload_00023053.jpeg', 'description': {'en': '<p>Research Expertise: Demography and demographic methods; fertility; immigration; reproduction</p>\\n<p>Postdoctoral Researcher, FLUX Consortium</p>\\n<p>Guest Researcher,&nbsp;Max Planck – University of Helsinki Center for Social Inequalities in Population Health, Helsinki, Finland; Max Planck Institute for Demographic Research, Rostock, Germany</p>', 'fi': '<p>Research Expertise: Demography and demographic methods; fertility; immigration; reproduction</p>\\n<p>Postdoctoral Researcher, FLUX Consortium</p>\\n<p>Guest Researcher,&nbsp;Max Planck – University of Helsinki Center for Social Inequalities in Population Health, Helsinki, Finland; Max Planck Institute for Demographic Research, Rostock, Germany</p>', 'sv': None}, 'publicWorkDescription': {'en': '<p>Research Expertise: Demography and demographic methods; fertility; immigration; reproduction</p>\\n<p>Postdoctoral Researcher, FLUX Consortium</p>\\n<p>Guest Researcher,&nbsp;Max Planck – University of Helsinki Center for Social Inequalities in Population Health, Helsinki, Finland; Max Planck Institute for Demographic Research, Rostock, Germany</p>', 'fi': '<p>Research Expertise: Demography and demographic methods; fertility; immigration; reproduction</p>\\n<p>Postdoctoral Researcher, FLUX Consortium</p>\\n<p>Guest Researcher,&nbsp;Max Planck – University of Helsinki Center for Social Inequalities in Population Health, Helsinki, Finland; Max Planck Institute for Demographic Research, Rostock, Germany</p>', 'sv': '<p>Postdoctoral Researcher, FLUX Consortium: fertility and immigration demographer</p>'}, 'currentStatus': {'en': None, 'fi': None, 'sv': None}, 'tuhUri': {'rss': {'clippings': 'https://researchportal.helsinki.fi/en/persons/kelsey-quinn-wright/clippings?format=rss', 'activities': 'https://researchportal.helsinki.fi/en/persons/kelsey-quinn-wright/activities?format=rss', 'projects': 'https://researchportal.helsinki.fi/en/persons/kelsey-quinn-wright/projects?format=rss', 'publications': 'https://researchportal.helsinki.fi/en/persons/kelsey-quinn-wright/publications?format=rss'}, 'html': {'clippings': 'https://researchportal.helsinki.fi/en/persons/kelsey-quinn-wright/clippings', 'activities': 'https://researchportal.helsinki.fi/en/persons/kelsey-quinn-wright/activities', 'projects': 'https://researchportal.helsinki.fi/en/persons/kelsey-quinn-wright/projects', 'publications': 'https://researchportal.helsinki.fi/en/persons/kelsey-quinn-wright/publications'}}, 'twitterLink': '', 'linkedinLink': '', 'facebookLink': '', 'instagramLink': '', 'youtubeLink': '', 'personalLinks': [{'title': 'Personal Website', 'url': 'https://kelseyqwright.com/'}], 'id': 9461422, 'firstnames': 'Kelsey', 'lastname': 'Wright', 'fullname': 'Kelsey Wright', 'email': 'kelsey.wright@helsinki.fi', 'address': {'en': 'P.O 42 (Unioninkatu 33), 00014 University of Helsinki', 'fi': 'PL 42 (Unioninkatu 33), 00014 Helsingin Yliopisto', 'sv': 'PB 42 (Unioninkatu 33), 00014 Helsingfors Universitet'}, 'mobileNumber': '0504485201', 'phoneNumber': '0294123888', 'isPublic': True}\n",
      "Member Orgs\n",
      "[{'id': 62060775, 'name': 'Centre for Social Data Science'}, {'id': 10880982, 'name': 'Research Units'}, {'id': 20155246, 'name': 'Faculty of Social Sciences'}, {'id': 32800844, 'name': 'Faculties'}]\n",
      "Centre for Social Data Science\n",
      "Centre for Social Data Science\n",
      "YEAH\n",
      "62060775\n"
     ]
    }
   ],
   "execution_count": 8
  }
 ],
 "metadata": {
  "kernelspec": {
   "display_name": "Python 3",
   "language": "python",
   "name": "python3"
  },
  "language_info": {
   "codemirror_mode": {
    "name": "ipython",
    "version": 2
   },
   "file_extension": ".py",
   "mimetype": "text/x-python",
   "name": "python",
   "nbconvert_exporter": "python",
   "pygments_lexer": "ipython2",
   "version": "2.7.6"
  }
 },
 "nbformat": 4,
 "nbformat_minor": 5
}
